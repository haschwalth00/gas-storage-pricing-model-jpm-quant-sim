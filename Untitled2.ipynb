{
  "nbformat": 4,
  "nbformat_minor": 0,
  "metadata": {
    "colab": {
      "provenance": []
    },
    "kernelspec": {
      "name": "python3",
      "display_name": "Python 3"
    },
    "language_info": {
      "name": "python"
    }
  },
  "cells": [
    {
      "cell_type": "code",
      "execution_count": 6,
      "metadata": {
        "colab": {
          "base_uri": "https://localhost:8080/"
        },
        "id": "vPSw0NLOH5fs",
        "outputId": "b42f57c5-0634-437b-8a60-281af4479101"
      },
      "outputs": [
        {
          "output_type": "stream",
          "name": "stdout",
          "text": [
            "Estimated storage contract value: $-10177.32\n"
          ]
        }
      ],
      "source": [
        "import pandas as pd\n",
        "import numpy as np\n",
        "import matplotlib.pyplot as plt\n",
        "from datetime import datetime, timedelta\n",
        "from scipy.interpolate import interp1d\n",
        "\n",
        "# Load and preprocess natural gas price data\n",
        "nat_gas_data = pd.read_csv('Nat_Gas.csv')\n",
        "nat_gas_data['Dates'] = pd.to_datetime(nat_gas_data['Dates'], format='%m/%d/%y')\n",
        "nat_gas_data.set_index('Dates', inplace=True)\n",
        "\n",
        "# Create price interpolation function\n",
        "days_from_start = (nat_gas_data.index - nat_gas_data.index[0]).days\n",
        "price_interp = interp1d(days_from_start, nat_gas_data['Prices'], kind='linear', fill_value=\"extrapolate\")\n",
        "\n",
        "def get_price(target_date):\n",
        "    \"\"\"Return interpolated price for a given date.\"\"\"\n",
        "    days = (target_date - nat_gas_data.index[0]).days\n",
        "    return float(price_interp(days))\n",
        "\n",
        "def price_storage_contract(\n",
        "    injection_dates,\n",
        "    withdrawal_dates,\n",
        "    injection_rate,\n",
        "    withdrawal_rate,\n",
        "    max_storage_volume,\n",
        "    storage_cost_per_unit_per_day\n",
        "):\n",
        "    \"\"\"Simulates gas storage contract and returns total value.\"\"\"\n",
        "    storage_volume = 0.0\n",
        "    cash_flows = []\n",
        "    all_dates = sorted(set(injection_dates + withdrawal_dates))\n",
        "    current_date = min(all_dates)\n",
        "    end_date = max(all_dates)\n",
        "\n",
        "    while current_date <= end_date:\n",
        "        if current_date in injection_dates:\n",
        "            amount = min(injection_rate, max_storage_volume - storage_volume)\n",
        "            purchase_price = get_price(current_date)\n",
        "            cash_flows.append(-purchase_price * amount)\n",
        "            storage_volume += amount\n",
        "\n",
        "        if current_date in withdrawal_dates:\n",
        "            amount = min(withdrawal_rate, storage_volume)\n",
        "            sale_price = get_price(current_date)\n",
        "            cash_flows.append(+sale_price * amount)\n",
        "            storage_volume -= amount\n",
        "\n",
        "        # Daily storage cost\n",
        "        storage_cost = storage_volume * storage_cost_per_unit_per_day\n",
        "        cash_flows.append(-storage_cost)\n",
        "\n",
        "        current_date += timedelta(days=1)\n",
        "\n",
        "    total_contract_value = round(sum(cash_flows), 2)\n",
        "    return total_contract_value\n",
        "\n",
        "# Example usage\n",
        "if __name__ == \"__main__\":\n",
        "    injection_dates = [datetime(2023, 6, 1), datetime(2023, 6, 15), datetime(2023, 7, 1)]\n",
        "    withdrawal_dates = [datetime(2024, 1, 15), datetime(2024, 2, 1), datetime(2024, 3, 1)]\n",
        "\n",
        "    injection_rate = 1000  # units/day\n",
        "    withdrawal_rate = 800  # units/day\n",
        "    max_storage_volume = 10000  # units\n",
        "    storage_cost_per_unit_per_day = 0.01  # $\n",
        "\n",
        "    contract_value = price_storage_contract(\n",
        "        injection_dates,\n",
        "        withdrawal_dates,\n",
        "        injection_rate,\n",
        "        withdrawal_rate,\n",
        "        max_storage_volume,\n",
        "        storage_cost_per_unit_per_day\n",
        "    )\n",
        "\n",
        "    print(f\"Estimated storage contract value: ${contract_value}\")\n"
      ]
    }
  ]
}